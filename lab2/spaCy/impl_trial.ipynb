{
 "cells": [
  {
   "cell_type": "code",
   "execution_count": 149,
   "metadata": {},
   "outputs": [],
   "source": [
    "import json\n",
    "import spacy\n",
    "\n",
    "import spacy\n",
    "from spacy.tokens import Doc\n",
    "\n",
    "class WhitespaceTokenizer:\n",
    "    def __init__(self, vocab):\n",
    "        self.vocab = vocab\n",
    "\n",
    "    def __call__(self, text):\n",
    "        words = text.strip().split(\" \")\n",
    "        words = [w if w != \"\" else \" \" for w in words] \n",
    "        #for i,v in enumerate(words):print (f\"{i}{v}\")\n",
    "        return Doc(self.vocab, words=words)\n",
    "\n",
    "nlp = spacy.load(\"en_core_web_sm\")\n",
    "nlp.tokenizer = WhitespaceTokenizer(nlp.vocab)\n",
    "\n"
   ]
  },
  {
   "cell_type": "code",
   "execution_count": 150,
   "metadata": {},
   "outputs": [],
   "source": [
    "model = json.load(open(\"./model_as_text\",\"r\"))"
   ]
  },
  {
   "cell_type": "code",
   "execution_count": null,
   "metadata": {},
   "outputs": [],
   "source": []
  },
  {
   "cell_type": "code",
   "execution_count": 129,
   "metadata": {},
   "outputs": [],
   "source": [
    "from IPython.display import display, HTML\n",
    "\n",
    "import ipywidgets as w"
   ]
  },
  {
   "cell_type": "code",
   "execution_count": 186,
   "metadata": {
    "scrolled": true
   },
   "outputs": [
    {
     "data": {
      "application/vnd.jupyter.widget-view+json": {
       "model_id": "b5227b1afb134bfe88117415abb51c3e",
       "version_major": 2,
       "version_minor": 0
      },
      "text/plain": [
       "Text(value='', placeholder='[input]')"
      ]
     },
     "metadata": {},
     "output_type": "display_data"
    },
    {
     "data": {
      "application/vnd.jupyter.widget-view+json": {
       "model_id": "01d29a98a5564d8cb955da02f21a6053",
       "version_major": 2,
       "version_minor": 0
      },
      "text/plain": [
       "Textarea(value='', placeholder='[output]')"
      ]
     },
     "metadata": {},
     "output_type": "display_data"
    }
   ],
   "source": [
    "inp = w.Text(placeholder = \"[input]\")\n",
    "inp_hint = w.Textarea(placeholder = \"[output]\")\n",
    "class F():\n",
    "    def __init__(self):\n",
    "        self.func = None\n",
    "    def __call__(self,t):\n",
    "        self.func(t)\n",
    "        \n",
    "func = F()\n",
    "def on_change(v):\n",
    "    func(v.new)\n",
    "\n",
    "display(inp)\n",
    "display(inp_hint)\n",
    "\n",
    "import json\n",
    "\n",
    "model_ = json.load(open(\"./model_as_text\",\"r\"))\n",
    "\n",
    "\n",
    "def f2(v):\n",
    "    text = v.new\n",
    "    doc = nlp (text)\n",
    "    inp_hint.value = text + \"\\n\"\n",
    "    for w in doc:\n",
    "        inp_hint.value += f\"{w.text}/{w.tag_} \"\n",
    "        if w.text in model[\"remap\"]:\n",
    "            inp_hint.value += model[\"remap\"][w.text]\n",
    "\n",
    "inp.observe(f2, names = [\"value\"] )\n",
    "    \n",
    "func.func = f2 "
   ]
  },
  {
   "cell_type": "code",
   "execution_count": 182,
   "metadata": {},
   "outputs": [],
   "source": [
    "func(\"ere\")"
   ]
  },
  {
   "cell_type": "code",
   "execution_count": 165,
   "metadata": {},
   "outputs": [
    {
     "data": {
      "text/plain": [
       "dict_keys(['model', 'remap'])"
      ]
     },
     "execution_count": 165,
     "metadata": {},
     "output_type": "execute_result"
    }
   ],
   "source": [
    "model.keys()"
   ]
  },
  {
   "cell_type": "code",
   "execution_count": 191,
   "metadata": {},
   "outputs": [
    {
     "data": {
      "text/plain": [
       "['is',\n",
       " 'was',\n",
       " 'had',\n",
       " 'had',\n",
       " 'reports',\n",
       " 'was',\n",
       " 'is',\n",
       " 'exposed',\n",
       " 'presented',\n",
       " 'had',\n",
       " 'who',\n",
       " 'was',\n",
       " 'developed',\n",
       " 'has',\n",
       " 'normally',\n",
       " 'was',\n",
       " 'was',\n",
       " 'was']"
      ]
     },
     "execution_count": 191,
     "metadata": {},
     "output_type": "execute_result"
    }
   ],
   "source": [
    "model[\"model\"][\"/pt\"]"
   ]
  },
  {
   "cell_type": "code",
   "execution_count": null,
   "metadata": {},
   "outputs": [],
   "source": []
  }
 ],
 "metadata": {
  "kernelspec": {
   "display_name": "Python 3.6.8 64-bit",
   "language": "python",
   "name": "python36864bita4216dc9d6684757a9f6002daf64117a"
  },
  "language_info": {
   "codemirror_mode": {
    "name": "ipython",
    "version": 3
   },
   "file_extension": ".py",
   "mimetype": "text/x-python",
   "name": "python",
   "nbconvert_exporter": "python",
   "pygments_lexer": "ipython3",
   "version": "3.8.10"
  }
 },
 "nbformat": 4,
 "nbformat_minor": 4
}
